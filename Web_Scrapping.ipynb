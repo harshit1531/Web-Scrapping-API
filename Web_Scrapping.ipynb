{
  "nbformat": 4,
  "nbformat_minor": 0,
  "metadata": {
    "colab": {
      "provenance": [],
      "authorship_tag": "ABX9TyPuV68lBF+yqfO4AVCNvgOX",
      "include_colab_link": true
    },
    "kernelspec": {
      "name": "python3",
      "display_name": "Python 3"
    },
    "language_info": {
      "name": "python"
    }
  },
  "cells": [
    {
      "cell_type": "markdown",
      "metadata": {
        "id": "view-in-github",
        "colab_type": "text"
      },
      "source": [
        "<a href=\"https://colab.research.google.com/github/harshit1531/Web-Scrapping-API/blob/main/Web_Scrapping.ipynb\" target=\"_parent\"><img src=\"https://colab.research.google.com/assets/colab-badge.svg\" alt=\"Open In Colab\"/></a>"
      ]
    },
    {
      "cell_type": "code",
      "execution_count": 7,
      "metadata": {
        "id": "iDRYZL1hjqI6"
      },
      "outputs": [],
      "source": [
        "import requests\n",
        "from bs4 import BeautifulSoup\n",
        "import pandas as pd"
      ]
    },
    {
      "cell_type": "code",
      "source": [
        "baseurl = 'https://books.toscrape.com/'"
      ],
      "metadata": {
        "id": "sX_zk3rXj0JV"
      },
      "execution_count": 2,
      "outputs": []
    },
    {
      "cell_type": "code",
      "source": [
        "r= requests.get(baseurl)"
      ],
      "metadata": {
        "id": "eBi0VmJtj1xV"
      },
      "execution_count": 3,
      "outputs": []
    },
    {
      "cell_type": "code",
      "source": [
        "soup = BeautifulSoup(r.content)"
      ],
      "metadata": {
        "id": "D1YTeZbKj405"
      },
      "execution_count": 4,
      "outputs": []
    },
    {
      "cell_type": "code",
      "source": [
        "def extract_categories(baseurl):\n",
        "    categoties = {}\n",
        "    r = requests.get(baseurl)\n",
        "    soup = BeautifulSoup(r.content)\n",
        "    categoties_list = soup.find('ul', class_='nav-list').ul.find_all('li')\n",
        "    for li in categoties_list:\n",
        "        categoties.update({li.text.strip():baseurl + li.a['href']})\n",
        "    return categoties"
      ],
      "metadata": {
        "id": "NmRZaE_Uj8kX"
      },
      "execution_count": 5,
      "outputs": []
    },
    {
      "cell_type": "code",
      "source": [
        "data = extract_categories(baseurl)"
      ],
      "metadata": {
        "id": "5Q467DwokJi6"
      },
      "execution_count": 6,
      "outputs": []
    },
    {
      "cell_type": "code",
      "source": [
        "data"
      ],
      "metadata": {
        "colab": {
          "base_uri": "https://localhost:8080/"
        },
        "id": "JZ98rVstkMSt",
        "outputId": "b2be116a-1489-485b-c754-a77e6814357c"
      },
      "execution_count": 10,
      "outputs": [
        {
          "output_type": "execute_result",
          "data": {
            "text/plain": [
              "{'Travel': 'https://books.toscrape.com/catalogue/category/books/travel_2/index.html',\n",
              " 'Mystery': 'https://books.toscrape.com/catalogue/category/books/mystery_3/index.html',\n",
              " 'Historical Fiction': 'https://books.toscrape.com/catalogue/category/books/historical-fiction_4/index.html',\n",
              " 'Sequential Art': 'https://books.toscrape.com/catalogue/category/books/sequential-art_5/index.html',\n",
              " 'Classics': 'https://books.toscrape.com/catalogue/category/books/classics_6/index.html',\n",
              " 'Philosophy': 'https://books.toscrape.com/catalogue/category/books/philosophy_7/index.html',\n",
              " 'Romance': 'https://books.toscrape.com/catalogue/category/books/romance_8/index.html',\n",
              " 'Womens Fiction': 'https://books.toscrape.com/catalogue/category/books/womens-fiction_9/index.html',\n",
              " 'Fiction': 'https://books.toscrape.com/catalogue/category/books/fiction_10/index.html',\n",
              " 'Childrens': 'https://books.toscrape.com/catalogue/category/books/childrens_11/index.html',\n",
              " 'Religion': 'https://books.toscrape.com/catalogue/category/books/religion_12/index.html',\n",
              " 'Nonfiction': 'https://books.toscrape.com/catalogue/category/books/nonfiction_13/index.html',\n",
              " 'Music': 'https://books.toscrape.com/catalogue/category/books/music_14/index.html',\n",
              " 'Default': 'https://books.toscrape.com/catalogue/category/books/default_15/index.html',\n",
              " 'Science Fiction': 'https://books.toscrape.com/catalogue/category/books/science-fiction_16/index.html',\n",
              " 'Sports and Games': 'https://books.toscrape.com/catalogue/category/books/sports-and-games_17/index.html',\n",
              " 'Add a comment': 'https://books.toscrape.com/catalogue/category/books/add-a-comment_18/index.html',\n",
              " 'Fantasy': 'https://books.toscrape.com/catalogue/category/books/fantasy_19/index.html',\n",
              " 'New Adult': 'https://books.toscrape.com/catalogue/category/books/new-adult_20/index.html',\n",
              " 'Young Adult': 'https://books.toscrape.com/catalogue/category/books/young-adult_21/index.html',\n",
              " 'Science': 'https://books.toscrape.com/catalogue/category/books/science_22/index.html',\n",
              " 'Poetry': 'https://books.toscrape.com/catalogue/category/books/poetry_23/index.html',\n",
              " 'Paranormal': 'https://books.toscrape.com/catalogue/category/books/paranormal_24/index.html',\n",
              " 'Art': 'https://books.toscrape.com/catalogue/category/books/art_25/index.html',\n",
              " 'Psychology': 'https://books.toscrape.com/catalogue/category/books/psychology_26/index.html',\n",
              " 'Autobiography': 'https://books.toscrape.com/catalogue/category/books/autobiography_27/index.html',\n",
              " 'Parenting': 'https://books.toscrape.com/catalogue/category/books/parenting_28/index.html',\n",
              " 'Adult Fiction': 'https://books.toscrape.com/catalogue/category/books/adult-fiction_29/index.html',\n",
              " 'Humor': 'https://books.toscrape.com/catalogue/category/books/humor_30/index.html',\n",
              " 'Horror': 'https://books.toscrape.com/catalogue/category/books/horror_31/index.html',\n",
              " 'History': 'https://books.toscrape.com/catalogue/category/books/history_32/index.html',\n",
              " 'Food and Drink': 'https://books.toscrape.com/catalogue/category/books/food-and-drink_33/index.html',\n",
              " 'Christian Fiction': 'https://books.toscrape.com/catalogue/category/books/christian-fiction_34/index.html',\n",
              " 'Business': 'https://books.toscrape.com/catalogue/category/books/business_35/index.html',\n",
              " 'Biography': 'https://books.toscrape.com/catalogue/category/books/biography_36/index.html',\n",
              " 'Thriller': 'https://books.toscrape.com/catalogue/category/books/thriller_37/index.html',\n",
              " 'Contemporary': 'https://books.toscrape.com/catalogue/category/books/contemporary_38/index.html',\n",
              " 'Spirituality': 'https://books.toscrape.com/catalogue/category/books/spirituality_39/index.html',\n",
              " 'Academic': 'https://books.toscrape.com/catalogue/category/books/academic_40/index.html',\n",
              " 'Self Help': 'https://books.toscrape.com/catalogue/category/books/self-help_41/index.html',\n",
              " 'Historical': 'https://books.toscrape.com/catalogue/category/books/historical_42/index.html',\n",
              " 'Christian': 'https://books.toscrape.com/catalogue/category/books/christian_43/index.html',\n",
              " 'Suspense': 'https://books.toscrape.com/catalogue/category/books/suspense_44/index.html',\n",
              " 'Short Stories': 'https://books.toscrape.com/catalogue/category/books/short-stories_45/index.html',\n",
              " 'Novels': 'https://books.toscrape.com/catalogue/category/books/novels_46/index.html',\n",
              " 'Health': 'https://books.toscrape.com/catalogue/category/books/health_47/index.html',\n",
              " 'Politics': 'https://books.toscrape.com/catalogue/category/books/politics_48/index.html',\n",
              " 'Cultural': 'https://books.toscrape.com/catalogue/category/books/cultural_49/index.html',\n",
              " 'Erotica': 'https://books.toscrape.com/catalogue/category/books/erotica_50/index.html',\n",
              " 'Crime': 'https://books.toscrape.com/catalogue/category/books/crime_51/index.html'}"
            ]
          },
          "metadata": {},
          "execution_count": 10
        }
      ]
    },
    {
      "cell_type": "code",
      "source": [],
      "metadata": {
        "id": "5OK2oYxokfQW"
      },
      "execution_count": null,
      "outputs": []
    }
  ]
}