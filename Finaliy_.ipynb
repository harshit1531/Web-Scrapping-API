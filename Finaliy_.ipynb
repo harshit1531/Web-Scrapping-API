{
  "cells": [
    {
      "cell_type": "markdown",
      "metadata": {
        "id": "view-in-github",
        "colab_type": "text"
      },
      "source": [
        "<a href=\"https://colab.research.google.com/github/harshit1531/Web-Scrapping-API/blob/main/Finaliy_.ipynb\" target=\"_parent\"><img src=\"https://colab.research.google.com/assets/colab-badge.svg\" alt=\"Open In Colab\"/></a>"
      ]
    },
    {
      "cell_type": "code",
      "execution_count": null,
      "metadata": {
        "id": "q12Iwsw0EdIb"
      },
      "outputs": [],
      "source": [
        "import requests\n",
        "from bs4 import BeautifulSoup\n",
        "import pandas as pd\n",
        "import random\n",
        "import time"
      ]
    },
    {
      "cell_type": "code",
      "source": [
        "USER_AGENTS = [\"Mozilla/5.0 (Windows NT 10.0; Win64; x64) AppleWebKit/537.36 (KHTML, like Gecko) Chrome/85.0.4183.102 Safari/537.3\",\n",
        "               \"Mozilla/5.0 (Windows NT 10.0; Win64; x64) AppleWebKit/537.36 (KHTML, like Gecko) Chrome/58.0.3029.110 Safari/537.36\",\n",
        "               \"Mozilla/5.0 (Windows NT 10.0; Win64; x64; rv:53.0) Gecko/20100101 Firefox/53.0\",\n",
        "               \"Mozilla/5.0 (compatible; MSIE 9.0; Windows NT 6.0; Trident/5.0; Trident/5.0)\",\n",
        "               \"Mozilla/5.0 (compatible; MSIE 10.0; Windows NT 6.2; Trident/6.0; MDDCJS)\",\n",
        "               \"Mozilla/5.0 (Windows NT 10.0; Win64; x64) AppleWebKit/537.36 (KHTML, like Gecko) Chrome/51.0.2704.79 Safari/537.36 Edge/14.14393\",\n",
        "               \"Mozilla/4.0 (compatible; MSIE 6.0; Windows NT 5.1; SV1\",\n",
        "               \"Mozilla/5.0 (Linux; Android 12; SM-S906N Build/QP1A.190711.020; wv) AppleWebKit/537.36\\(KHTML, like Gecko) Version/4.0 Chrome/80.0.3987.119 Mobile Safari/537.36\",\n",
        "               \"Mozilla/5.0 (Linux; Android 10; SM-G996U Build/QP1A.190711.020; wv) AppleWebKit/537.36\\(KHTML, like Gecko) Version/4.0 Mobile Safari/537.36\",\n",
        "               \"Mozilla/5.0 (iPhone; CPU iPhone OS 12_0 like Mac OS X) AppleWebKit/605.1.15\\(KHTML, like Gecko) CriOS/69.0.3497.105 Mobile/15E148 Safari/605.1\"\n",
        "               ]"
      ],
      "metadata": {
        "id": "R_bl4Ix4lg-1"
      },
      "execution_count": null,
      "outputs": []
    },
    {
      "cell_type": "code",
      "execution_count": null,
      "metadata": {
        "id": "OTY48GU9EdJF"
      },
      "outputs": [],
      "source": [
        "def scrape_google_results(query, num_results):\n",
        "    results = []\n",
        "    for start in range(0, num_results):\n",
        "        url = f\"https://www.google.com/search?q={query}&start={start}\"\n",
        "        \n",
        "        headers = {\"User-Agent\": random.choice(USER_AGENTS),\n",
        "                   'Accept-Language': 'en-US, en;q=0.5'}\n",
        "\n",
        "        response = requests.get(url, headers=headers)\n",
        "        soup = BeautifulSoup(response.text, \"html.parser\")\n",
        "        for item in soup.select(\".g\"):\n",
        "            link = item.select_one(\"a\")[\"href\"]\n",
        "            results.append(link)\n",
        "        time.sleep(random.randrange(1,3))\n",
        "    return results"
      ]
    },
    {
      "cell_type": "code",
      "execution_count": null,
      "metadata": {
        "id": "2AlYt3BCEdJP"
      },
      "outputs": [],
      "source": [
        "query = \"site:youtube.com openinapp.co\"\n",
        "num_results = 100\n",
        "results = scrape_google_results(query, num_results)"
      ]
    },
    {
      "cell_type": "code",
      "execution_count": null,
      "metadata": {
        "id": "5AxqsALJEdJV"
      },
      "outputs": [],
      "source": [
        "df = pd.DataFrame(results, columns=[\"YouTube link\"])\n",
        "df.to_csv('Final_.csv', index=False)"
      ]
    },
    {
      "cell_type": "code",
      "source": [],
      "metadata": {
        "id": "PHzB9JB4B7dO"
      },
      "execution_count": null,
      "outputs": []
    }
  ],
  "metadata": {
    "kernelspec": {
      "display_name": "Python 3 (ipykernel)",
      "language": "python",
      "name": "python3"
    },
    "language_info": {
      "codemirror_mode": {
        "name": "ipython",
        "version": 3
      },
      "file_extension": ".py",
      "mimetype": "text/x-python",
      "name": "python",
      "nbconvert_exporter": "python",
      "pygments_lexer": "ipython3",
      "version": "3.9.12"
    },
    "colab": {
      "provenance": [],
      "include_colab_link": true
    }
  },
  "nbformat": 4,
  "nbformat_minor": 0
}