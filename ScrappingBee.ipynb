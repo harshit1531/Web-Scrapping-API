{
 "cells": [
  {
   "cell_type": "code",
   "execution_count": 1,
   "id": "c59f3d0c",
   "metadata": {},
   "outputs": [],
   "source": [
    "# pip install scrapingbee"
   ]
  },
  {
   "cell_type": "code",
   "execution_count": 2,
   "id": "73ad8cbc",
   "metadata": {},
   "outputs": [],
   "source": [
    "from scrapingbee import ScrapingBeeClient"
   ]
  },
  {
   "cell_type": "code",
   "execution_count": 23,
   "id": "316956ef",
   "metadata": {},
   "outputs": [],
   "source": [
    "client = ScrapingBeeClient(api_key='use your own api buddy😃')\n",
    "\n",
    "# query = \"youtube.com/openinapp.co\"\n",
    "url = \"https://learn.udacity.com/my-programs?tab=Currently%2520Learning\"\n",
    "\n",
    "response = client.get(url)"
   ]
  },
  {
   "cell_type": "code",
   "execution_count": 24,
   "id": "25c25107",
   "metadata": {},
   "outputs": [
    {
     "data": {
      "text/plain": [
       "<Response [200]>"
      ]
     },
     "execution_count": 24,
     "metadata": {},
     "output_type": "execute_result"
    }
   ],
   "source": [
    "response"
   ]
  },
  {
   "cell_type": "code",
   "execution_count": 25,
   "id": "32f110be",
   "metadata": {},
   "outputs": [],
   "source": [
    "from bs4 import BeautifulSoup"
   ]
  },
  {
   "cell_type": "code",
   "execution_count": 26,
   "id": "7afeb7a4",
   "metadata": {},
   "outputs": [],
   "source": [
    "soup = BeautifulSoup(response.text, \"html.parser\")"
   ]
  },
  {
   "cell_type": "code",
   "execution_count": 27,
   "id": "6ed98507",
   "metadata": {
    "scrolled": true
   },
   "outputs": [
    {
     "data": {
      "text/plain": [
       "<!DOCTYPE html>\n",
       "<html lang=\"en\"><head><base target=\"_parent\"/><meta charset=\"utf-8\"/><meta content=\"width=device-width,initial-scale=1,shrink-to-fit=no\" name=\"viewport\"/><meta content=\"#000000\" name=\"theme-color\"/><link href=\"/touch-icon.png\" rel=\"apple-touch-icon\"/><link href=\"/favicon.ico\" rel=\"shortcut icon\"/><link href=\"/manifest.json\" rel=\"manifest\"/><link href=\"https://www.udacity.com\" rel=\"dns-prefetch\"/><link href=\"https://classroom.udacity.com\" rel=\"dns-prefetch\"/><link href=\"https://www.google.com\" rel=\"dns-prefetch\"/><script src=\"https://ext.chtbl.com/trackable.js\"></script><script async=\"\" src=\"https://connect.facebook.net/en_US/fbevents.js\"></script><script async=\"\" src=\"//d.impactradius-event.com/A2196549-ea12-4308-bf0b-5abde092433a1.js\"></script><script async=\"\" src=\"https://static.ads-twitter.com/uwt.js\" type=\"text/javascript\"></script><script async=\"\" src=\"https://cdn.amplitude.com/libs/amplitude-5.2.2-min.gz.js\" type=\"text/javascript\"></script><script async=\"\" src=\"https://www.googleadservices.com/pagead/conversion_async.js\" type=\"text/javascript\"></script><script async=\"\" src=\"https://www.googletagmanager.com/gtm.js?id=GTM-WW3F3H&amp;l=dataLayer\" type=\"text/javascript\"></script><script async=\"\" src=\"https://sgmt.udacity.com/next-integrations/integrations/vendor/commons.c42222c4cb2f8913500f.js.gz\" status=\"loaded\" type=\"text/javascript\"></script><script async=\"\" src=\"https://sgmt.udacity.com/next-integrations/integrations/amplitude/3.3.3/amplitude.dynamic.js.gz\" status=\"loaded\" type=\"text/javascript\"></script><script async=\"\" src=\"https://sgmt.udacity.com/next-integrations/integrations/twitter-ads/2.5.2/twitter-ads.dynamic.js.gz\" status=\"loaded\" type=\"text/javascript\"></script><script async=\"\" src=\"https://sgmt.udacity.com/next-integrations/integrations/adwords/2.5.3/adwords.dynamic.js.gz\" status=\"loaded\" type=\"text/javascript\"></script><script async=\"\" src=\"https://sgmt.udacity.com/next-integrations/integrations/google-tag-manager/2.5.1/google-tag-manager.dynamic.js.gz\" status=\"loaded\" type=\"text/javascript\"></script><script async=\"\" src=\"https://sgmt.udacity.com/analytics.js/v1/2pmctCqPl2ftwe44heojWDso2pWdxfi1/analytics.min.js\" type=\"text/javascript\"></script><script type=\"text/javascript\">!function(){if(\"PerformanceLongTaskTiming\"in window){var e=window.__tti={e:[]};e.o=new PerformanceObserver((function(n){e.e=e.e.concat(n.getEntries())})),e.o.observe({entryTypes:[\"longtask\"]})}}()</script><script type=\"text/javascript\">!function(){var t=window.analytics=window.analytics||[];if(!t.initialize)if(t.invoked)window.console&&console.error&&console.error(\"Segment snippet included twice.\");else{t.invoked=!0,t.methods=[\"trackSubmit\",\"trackClick\",\"trackLink\",\"trackForm\",\"pageview\",\"identify\",\"reset\",\"group\",\"track\",\"ready\",\"alias\",\"page\",\"once\",\"off\",\"on\"],t.factory=function(e){return function(){var o=Array.prototype.slice.call(arguments);return o.unshift(e),t.push(o),t}};for(var e=0;e<t.methods.length;e++){var o=t.methods[e];t[o]=t.factory(o)}t.load=function(t){var e=document.createElement(\"script\");e.type=\"text/javascript\",e.async=!0,e.src=(\"https:\"===document.location.protocol?\"https://\":\"http://\")+\"sgmt.udacity.com/analytics.js/v1/\"+t+\"/analytics.min.js\";var o=document.getElementsByTagName(\"script\")[0];o.parentNode.insertBefore(e,o)},t.SNIPPET_VERSION=\"4.15.3\",t.load(\"2pmctCqPl2ftwe44heojWDso2pWdxfi1\"),t.page()}}()</script><script>/*! loadCSS. [c]2017 Filament Group, Inc. MIT License */\n",
       "!function(t){\"use strict\";t.loadCSS||(t.loadCSS=function(){});var e=loadCSS.relpreload={};if(e.support=function(){var e;try{e=t.document.createElement(\"link\").relList.supports(\"preload\")}catch(t){e=!1}return function(){return e}}(),e.bindMediaToggle=function(t){var e=t.media||\"all\";function a(){t.media=e}t.addEventListener?t.addEventListener(\"load\",a):t.attachEvent&&t.attachEvent(\"onload\",a),setTimeout((function(){t.rel=\"stylesheet\",t.media=\"only x\"})),setTimeout(a,3e3)},e.poly=function(){if(!e.support())for(var a=t.document.getElementsByTagName(\"link\"),n=0;n<a.length;n++){var o=a[n];\"preload\"!==o.rel||\"style\"!==o.getAttribute(\"as\")||o.getAttribute(\"data-loadcss\")||(o.setAttribute(\"data-loadcss\",!0),e.bindMediaToggle(o))}},!e.support()){e.poly();var a=t.setInterval(e.poly,500);t.addEventListener?t.addEventListener(\"load\",(function(){e.poly(),t.clearInterval(a)})):t.attachEvent&&t.attachEvent(\"onload\",(function(){e.poly(),t.clearInterval(a)}))}\"undefined\"!=typeof exports?exports.loadCSS=loadCSS:t.loadCSS=loadCSS}(\"undefined\"!=typeof global?global:this)</script><title>Sign Up - Udacity</title><link href=\"/static/css/main.d6508dc9.chunk.css\" rel=\"stylesheet\"/><script async=\"\" src=\"https://www.googleadservices.com/pagead/conversion/872720222/?random=1676832401097&amp;cv=9&amp;fst=1676832401097&amp;num=1&amp;guid=ON&amp;resp=GooglemKTybQhCsO&amp;eid=466465925&amp;u_h=1080&amp;u_w=1920&amp;u_ah=1080&amp;u_aw=1920&amp;u_cd=24&amp;u_his=3&amp;u_tz=0&amp;u_java=false&amp;u_nplug=3&amp;u_nmime=4&amp;sendb=1&amp;ig=1&amp;frm=0&amp;url=https%3A%2F%2Fauth.udacity.com%2Fsign-up%3Fnext%3Dhttps%253A%252F%252Flearn.udacity.com%252Fmy-programs%253Ftab%253DCurrently%25252520Learning&amp;ref=https%3A%2F%2Flearn.udacity.com%2F&amp;tiba=Sign%20Up%20-%20Udacity&amp;hn=www.googleadservices.com&amp;uaa=x86&amp;uab=&amp;uam=&amp;uap=Windows&amp;uapv=10.0&amp;uaw=0&amp;uafvl=&amp;async=1&amp;rfmt=3&amp;fmt=4\" type=\"text/javascript\"></script><script async=\"\" src=\"https://googleads.g.doubleclick.net/pagead/viewthroughconversion/872720222/?random=1676832401109&amp;cv=9&amp;fst=1676832401109&amp;num=1&amp;guid=ON&amp;resp=GooglemKTybQhCsO&amp;eid=376635470%2C466465925&amp;u_h=1080&amp;u_w=1920&amp;u_ah=1080&amp;u_aw=1920&amp;u_cd=24&amp;u_his=3&amp;u_tz=0&amp;u_java=false&amp;u_nplug=3&amp;u_nmime=4&amp;sendb=1&amp;ig=1&amp;data=path%3D%2Fsign-up%3Breferrer%3Dhttps%3A%2F%2Flearn.udacity.com%2F%3Bsearch%3D%3Fnext%5C%3Dhttps%253A%252F%252Flearn.udacity.com%252Fmy-programs%253Ftab%253DCurrently%25252520Learning%3Btitle%3DSign%20Up%20-%20Udacity%3Burl%3Dhttps%3A%2F%2Fauth.udacity.com%2Fsign-up%3Fnext%5C%3Dhttps%253A%252F%252Flearn.udacity.com%252Fmy-programs%253Ftab%253DCurrently%25252520Learning&amp;frm=0&amp;url=https%3A%2F%2Fauth.udacity.com%2Fsign-up%3Fnext%3Dhttps%253A%252F%252Flearn.udacity.com%252Fmy-programs%253Ftab%253DCurrently%25252520Learning&amp;ref=https%3A%2F%2Flearn.udacity.com%2F&amp;tiba=Sign%20Up%20-%20Udacity&amp;hn=www.googleadservices.com&amp;uaa=x86&amp;uab=&amp;uam=&amp;uap=Windows&amp;uapv=10.0&amp;uaw=0&amp;uafvl=&amp;async=1&amp;rfmt=3&amp;fmt=4\" type=\"text/javascript\"></script><script async=\"\" src=\"https://www.googleadservices.com/pagead/conversion/872720222/?random=1676832401112&amp;cv=9&amp;fst=1676832401112&amp;num=1&amp;guid=ON&amp;resp=GooglemKTybQhCsO&amp;eid=376635470%2C466465925&amp;u_h=1080&amp;u_w=1920&amp;u_ah=1080&amp;u_aw=1920&amp;u_cd=24&amp;u_his=3&amp;u_tz=0&amp;u_java=false&amp;u_nplug=3&amp;u_nmime=4&amp;sendb=1&amp;ig=1&amp;frm=0&amp;url=https%3A%2F%2Fauth.udacity.com%2Fsign-up%3Fnext%3Dhttps%253A%252F%252Flearn.udacity.com%252Fmy-programs%253Ftab%253DCurrently%25252520Learning&amp;ref=https%3A%2F%2Flearn.udacity.com%2F&amp;tiba=Sign%20Up%20-%20Udacity&amp;hn=www.googleadservices.com&amp;uaa=x86&amp;uab=&amp;uam=&amp;uap=Windows&amp;uapv=10.0&amp;uaw=0&amp;uafvl=&amp;async=1&amp;rfmt=3&amp;fmt=4\" type=\"text/javascript\"></script><script async=\"\" src=\"https://googleads.g.doubleclick.net/pagead/viewthroughconversion/872720222/?random=1676832401118&amp;cv=9&amp;fst=1676832401118&amp;num=1&amp;guid=ON&amp;resp=GooglemKTybQhCsO&amp;eid=376635470%2C466465925&amp;u_h=1080&amp;u_w=1920&amp;u_ah=1080&amp;u_aw=1920&amp;u_cd=24&amp;u_his=3&amp;u_tz=0&amp;u_java=false&amp;u_nplug=3&amp;u_nmime=4&amp;sendb=1&amp;ig=1&amp;data=path%3D%2Fsign-up%3Breferrer%3Dhttps%3A%2F%2Flearn.udacity.com%2F%3Bsearch%3D%3Fnext%5C%3Dhttps%253A%252F%252Flearn.udacity.com%252Fmy-programs%253Ftab%253DCurrently%25252520Learning%3Btitle%3DSign%20Up%20-%20Udacity%3Burl%3Dhttps%3A%2F%2Fauth.udacity.com%2Fsign-up%3Fnext%5C%3Dhttps%253A%252F%252Flearn.udacity.com%252Fmy-programs%253Ftab%253DCurrently%25252520Learning%3Bcategory%3DSign%20Up%3Bname%3DSign%20Up&amp;frm=0&amp;url=https%3A%2F%2Fauth.udacity.com%2Fsign-up%3Fnext%3Dhttps%253A%252F%252Flearn.udacity.com%252Fmy-programs%253Ftab%253DCurrently%25252520Learning&amp;ref=https%3A%2F%2Flearn.udacity.com%2F&amp;tiba=Sign%20Up%20-%20Udacity&amp;hn=www.googleadservices.com&amp;uaa=x86&amp;uab=&amp;uam=&amp;uap=Windows&amp;uapv=10.0&amp;uaw=0&amp;uafvl=&amp;async=1&amp;rfmt=3&amp;fmt=4\" type=\"text/javascript\"></script></head><body dir=\"ltr\" lang=\"en-us\"><noscript>You need to enable JavaScript to run this app.</noscript><div id=\"root\"><div class=\"app_brandRefresh__SbajM\"><div role=\"banner\"><div class=\"header_header__1g2xC\"><div class=\"header_layout__36mVO\"><a href=\"https://www.udacity.com\"><div class=\"header_logo-container__GGeNl\"><img alt=\"Udacity Logo\" class=\"header_logo__nbGij\" role=\"img\" src=\"/static/media/logo.08dc9669.svg\"/></div></a></div></div></div><div class=\"app_content__Kl-ZQ\" role=\"main\"><div><div aria-label=\"Loading Sign Up\" class=\"vds-loading vds-loading--lg\" role=\"status\"><div class=\"vds-loading__children\"><div class=\"tabbed-pane_tabbed-pane__2DfHq\"><div class=\"tabbed-pane_tabs__1rsRG\"><div class=\"tabbed-pane_tab-selected__3MxJq tabbed-pane__tab__2Q7yi\">Sign up</div><div class=\"tabbed-pane_tab__1UGlv tabbed-pane__tab__2Q7yi\">Sign in</div></div><div class=\"tabbed-pane_content__3zivd\"><div><h1 class=\"form-header_header__UhqWw\">Create your account.</h1><p class=\"form-header_description__2ic93\"><span>Build skills for today, tomorrow, and beyond.<br/>Education to future-proof your career.</span></p></div><div class=\"form_alerts__2mutj\"><div><div class=\"alert_error__3rDC3 alert__alert__nhpvN alert_hidden__2ikXu\"><div class=\"alert_hidden__2ikXu\"><a></a></div></div></div></div><div><form action=\"/api/user/oauth/signup\" method=\"post\"><input name=\"next\" type=\"hidden\" value=\"https://learn.udacity.com/my-programs?tab=Currently%2520Learning\"/><input name=\"provider\" type=\"hidden\" value=\"\"/></form><div class=\"provider-buttons_buttons__tVEWg\"><div class=\"_provider-button_provider-button__3AGeE\"><div class=\"_provider-button_button-wrapper--lowercase__1EWvo\"><button class=\"vds-button vds-button--minimal vds-button--full vds-button__icon vds-button__icon--left\" type=\"button\"><span class=\"vds-button__content\"><i aria-hidden=\"false\" aria-label=\"google\" class=\"vds-icon\" role=\"img\"><svg height=\"24\" viewbox=\"0 0 24 24\" width=\"24\"><g fill=\"none\"><path d=\"M23.49,12.27 C23.49,11.48 23.42,10.73 23.3,10 L12,10 L12,14.51 L18.47,14.51 C18.18,15.99 17.33,17.24 16.07,18.09 L16.07,21.09 L19.93,21.09 C22.19,19 23.49,15.92 23.49,12.27 Z\" fill=\"#4285F4\"></path><path d=\"M12,24 C15.24,24 17.95,22.92 19.93,21.09 L16.07,18.09 C14.99,18.81 13.62,19.25 12,19.25 C8.87,19.25 6.22,17.14 5.27,14.29 L1.29,14.29 L1.29,17.38 C3.26,21.3 7.31,24 12,24 Z\" fill=\"#34A853\"></path><path d=\"M5.27,14.29 C5.02,13.57 4.89,12.8 4.89,12 C4.89,11.2 5.03,10.43 5.27,9.71 L5.27,6.62 L1.29,6.62 C0.47,8.24 0,10.06 0,12 C0,13.94 0.47,15.76 1.29,17.38 L5.27,14.29 Z\" fill=\"#FBBC05\"></path><path d=\"M12,4.75 C13.77,4.75 15.35,5.36 16.6,6.55 L20.02,3.13 C17.95,1.19 15.24,0 12,0 C7.31,0 3.26,2.7 1.29,6.62 L5.27,9.71 C6.22,6.86 8.87,4.75 12,4.75 Z\" fill=\"#EA4335\"></path></g></svg></i>Sign up with Google</span></button></div></div><div class=\"_provider-button_provider-button__3AGeE\"><div class=\"_provider-button_button-wrapper--lowercase__1EWvo\"><button class=\"vds-button vds-button--minimal vds-button--full vds-button__icon vds-button__icon--left\" type=\"button\"><span class=\"vds-button__content\"><i aria-hidden=\"false\" aria-label=\"facebook\" class=\"vds-icon\" role=\"img\"><svg height=\"24\" viewbox=\"0 0 24 24\" width=\"24\"><g fill=\"none\" fill-rule=\"evenodd\"><path d=\"M24,12 C24,5.37257812 18.6274219,0 12,0 C5.37257813,0 0,5.37257812 0,12 C0,17.9895469 4.38822656,22.9539844 10.125,23.8541719 L10.125,15.46875 L7.078125,15.46875 L7.078125,12 L10.125,12 L10.125,9.35625 C10.125,6.34875 11.9165391,4.6875 14.6575547,4.6875 C15.9705,4.6875 17.34375,4.921875 17.34375,4.921875 L17.34375,7.875 L15.8305547,7.875 C14.3398828,7.875 13.875,8.80000781 13.875,9.74899219 L13.875,12 L17.203125,12 L16.6710937,15.46875 L13.875,15.46875 L13.875,23.8541719 C19.6117734,22.9539844 24,17.9895469 24,12\" fill=\"#1877F2\"></path><path d=\"M16.6710938,15.46875 L17.203125,12 L13.875,12 L13.875,9.74899219 C13.875,8.80000781 14.3398828,7.875 15.8305547,7.875 L17.34375,7.875 L17.34375,4.921875 C17.34375,4.921875 15.9705,4.6875 14.6575547,4.6875 C11.9165391,4.6875 10.125,6.34875 10.125,9.35625 L10.125,12 L7.078125,12 L7.078125,15.46875 L10.125,15.46875 L10.125,23.8541719 C10.7359453,23.9500312 11.362125,24 12,24 C12.637875,24 13.2640547,23.9500312 13.875,23.8541719 L13.875,15.46875 L16.6710938,15.46875 Z\" fill=\"#FFF\"></path></g></svg></i>Sign up with Facebook</span></button></div></div></div></div><div class=\"or-separator_contain__3YaFK\"><p class=\"or-separator_or__1tzqc\">or</p></div><div><div><div></div><div class=\"form_alerts__2mutj\"><div><div class=\"alert_success__1bTs6 alert__alert__nhpvN alert_hidden__2ikXu\"><div class=\"alert_hidden__2ikXu\"><a></a></div></div></div><div><div class=\"alert_error__3rDC3 alert__alert__nhpvN alert_hidden__2ikXu\"><div class=\"alert_hidden__2ikXu\"><a></a></div></div></div></div><form><fieldset class=\"vds-form-fieldset\"><legend class=\"vds-form-fieldset__title\"></legend><div class=\"vds-text-input\"><label class=\"vds-text-input__label vds-visually-hidden\" for=\"first-name\">First Name</label><input class=\"vds-text-input__input\" id=\"first-name\" placeholder=\"First Name\" required=\"\" type=\"text\" value=\"\"/></div><div class=\"vds-text-input\"><label class=\"vds-text-input__label vds-visually-hidden\" for=\"last-name\">Last Name</label><input class=\"vds-text-input__input\" id=\"last-name\" placeholder=\"Last Name\" required=\"\" type=\"text\" value=\"\"/></div><div class=\"vds-text-input\"><label class=\"vds-text-input__label vds-visually-hidden\" for=\"email\">Email Address</label><input class=\"vds-text-input__input\" id=\"email\" placeholder=\"Email Address\" required=\"\" type=\"text\" value=\"\"/></div><div class=\"password-creator_password_creator__34Yr8\"><div class=\"revealable-password_revealable_password__14MVz\"><div class=\"vds-text-input\"><label class=\"vds-text-input__label vds-visually-hidden\" for=\"revealable-password\">Password</label><input class=\"vds-text-input__input\" id=\"revealable-password\" placeholder=\"Password\" required=\"\" type=\"password\" value=\"\"/></div><span class=\"revealable-password_icon_container__1qdtE\"><i aria-hidden=\"false\" aria-label=\"view on\" class=\"vds-icon vds-color--silver\" role=\"img\"><svg viewbox=\"0 0 32 32\"><path d=\"M16 9c4.45 0 8.076 2.417 10.73 6.997a2 2 0 01-.088 2.145C23.96 21.998 20.357 24 16 24c-4.357 0-7.96-2.002-10.642-5.858a2 2 0 01-.088-2.145C7.924 11.417 11.55 9 16 9zm0 2c-3.682 0-6.682 2-9 6 2.318 3.333 5.318 5 9 5 3.682 0 6.682-1.667 9-5-2.318-4-5.318-6-9-6zm0 1a4 4 0 110 8 4 4 0 010-8zm0 2a2 2 0 100 4 2 2 0 000-4z\"></path></svg></i></span></div></div><div class=\"tos-blurb\" label=\"Terms of Service\"><span>By clicking \"Sign up,\" you agree to our <a href=\"https://www.udacity.com/legal/terms-of-service\">Terms of Use</a> and our <a href=\"https://www.udacity.com/legal/privacy\">Privacy Policy</a>.</span></div><button class=\"vds-button vds-button--primary\" type=\"button\"><span class=\"vds-button__content\">Sign up</span></button></fieldset></form></div></div></div></div></div></div></div></div></div></div><script>!function(e){function t(t){for(var n,o,c=t[0],i=t[1],f=t[2],l=0,d=[];l<c.length;l++)o=c[l],Object.prototype.hasOwnProperty.call(a,o)&&a[o]&&d.push(a[o][0]),a[o]=0;for(n in i)Object.prototype.hasOwnProperty.call(i,n)&&(e[n]=i[n]);for(s&&s(t);d.length;)d.shift()();return u.push.apply(u,f||[]),r()}function r(){for(var e,t=0;t<u.length;t++){for(var r=u[t],n=!0,o=1;o<r.length;o++){var i=r[o];0!==a[i]&&(n=!1)}n&&(u.splice(t--,1),e=c(c.s=r[0]))}return e}var n={},o={2:0},a={2:0},u=[];function c(t){if(n[t])return n[t].exports;var r=n[t]={i:t,l:!1,exports:{}};return e[t].call(r.exports,r,r.exports,c),r.l=!0,r.exports}c.e=function(e){var t=[];o[e]?t.push(o[e]):0!==o[e]&&{0:1,5:1,6:1,7:1,8:1,9:1,10:1,11:1}[e]&&t.push(o[e]=new Promise((function(t,r){for(var n=\"static/css/\"+({}[e]||e)+\".\"+{0:\"b4ccdbf6\",4:\"31d6cfe0\",5:\"a09fc6a6\",6:\"34ae4423\",7:\"e712bf74\",8:\"863ed711\",9:\"4d3f2b6a\",10:\"54bfb584\",11:\"682233b6\",12:\"31d6cfe0\",13:\"31d6cfe0\",14:\"31d6cfe0\",15:\"31d6cfe0\"}[e]+\".chunk.css\",a=c.p+n,u=document.getElementsByTagName(\"link\"),i=0;i<u.length;i++){var f=(s=u[i]).getAttribute(\"data-href\")||s.getAttribute(\"href\");if(\"stylesheet\"===s.rel&&(f===n||f===a))return t()}var l=document.getElementsByTagName(\"style\");for(i=0;i<l.length;i++){var s;if((f=(s=l[i]).getAttribute(\"data-href\"))===n||f===a)return t()}var d=document.createElement(\"link\");d.rel=\"stylesheet\",d.type=\"text/css\",d.onload=t,d.onerror=function(t){var n=t&&t.target&&t.target.src||a,u=new Error(\"Loading CSS chunk \"+e+\" failed.\\n(\"+n+\")\");u.code=\"CSS_CHUNK_LOAD_FAILED\",u.request=n,delete o[e],d.parentNode.removeChild(d),r(u)},d.href=a,document.getElementsByTagName(\"head\")[0].appendChild(d)})).then((function(){o[e]=0})));var r=a[e];if(0!==r)if(r)t.push(r[2]);else{var n=new Promise((function(t,n){r=a[e]=[t,n]}));t.push(r[2]=n);var u,i=document.createElement(\"script\");i.charset=\"utf-8\",i.timeout=120,c.nc&&i.setAttribute(\"nonce\",c.nc),i.src=function(e){return c.p+\"static/js/\"+({}[e]||e)+\".\"+{0:\"fc34f00a\",4:\"b80824d5\",5:\"bee9c879\",6:\"5caedd5f\",7:\"46be0bc2\",8:\"b4a621f0\",9:\"a6065c05\",10:\"920b0d6a\",11:\"3c7a57cf\",12:\"d6e153b1\",13:\"f42b6a48\",14:\"1a9b2038\",15:\"04717a82\"}[e]+\".chunk.js\"}(e);var f=new Error;u=function(t){i.onerror=i.onload=null,clearTimeout(l);var r=a[e];if(0!==r){if(r){var n=t&&(\"load\"===t.type?\"missing\":t.type),o=t&&t.target&&t.target.src;f.message=\"Loading chunk \"+e+\" failed.\\n(\"+n+\": \"+o+\")\",f.name=\"ChunkLoadError\",f.type=n,f.request=o,r[1](f)}a[e]=void 0}};var l=setTimeout((function(){u({type:\"timeout\",target:i})}),12e4);i.onerror=i.onload=u,document.head.appendChild(i)}return Promise.all(t)},c.m=e,c.c=n,c.d=function(e,t,r){c.o(e,t)||Object.defineProperty(e,t,{enumerable:!0,get:r})},c.r=function(e){\"undefined\"!=typeof Symbol&&Symbol.toStringTag&&Object.defineProperty(e,Symbol.toStringTag,{value:\"Module\"}),Object.defineProperty(e,\"__esModule\",{value:!0})},c.t=function(e,t){if(1&t&&(e=c(e)),8&t)return e;if(4&t&&\"object\"==typeof e&&e&&e.__esModule)return e;var r=Object.create(null);if(c.r(r),Object.defineProperty(r,\"default\",{enumerable:!0,value:e}),2&t&&\"string\"!=typeof e)for(var n in e)c.d(r,n,function(t){return e[t]}.bind(null,n));return r},c.n=function(e){var t=e&&e.__esModule?function(){return e.default}:function(){return e};return c.d(t,\"a\",t),t},c.o=function(e,t){return Object.prototype.hasOwnProperty.call(e,t)},c.p=\"/\",c.oe=function(e){throw console.error(e),e};var i=this.webpackJsonpauth=this.webpackJsonpauth||[],f=i.push.bind(i);i.push=t,i=i.slice();for(var l=0;l<i.length;l++)t(i[l]);var s=f;r()}([])</script><script src=\"/static/js/3.5021c526.chunk.js\"></script><script src=\"/static/js/main.d051e7af.chunk.js\"></script><img height=\"1\" src=\"https://t.co/i/adsct?bci=3&amp;eci=2&amp;event_id=9c68d9d1-1ce0-4259-9948-a775b131fd00&amp;events=%5B%5B%22pageview%22%2C%7B%7D%5D%5D&amp;integration=advertiser&amp;p_id=Twitter&amp;p_user_id=0&amp;pl_id=434ace52-7113-43cb-812b-ec6dbaf7b0b6&amp;tw_document_href=https%3A%2F%2Fauth.udacity.com%2Fsign-up%3Fnext%3Dhttps%253A%252F%252Flearn.udacity.com%252Fmy-programs%253Ftab%253DCurrently%25252520Learning&amp;tw_iframe_status=0&amp;tw_order_quantity=0&amp;tw_sale_amount=0&amp;txn_id=nv8k3&amp;type=javascript&amp;version=2.3.29\" style=\"display: none;\" width=\"1\"/><img height=\"1\" src=\"https://analytics.twitter.com/i/adsct?bci=3&amp;eci=2&amp;event_id=9c68d9d1-1ce0-4259-9948-a775b131fd00&amp;events=%5B%5B%22pageview%22%2C%7B%7D%5D%5D&amp;integration=advertiser&amp;p_id=Twitter&amp;p_user_id=0&amp;pl_id=434ace52-7113-43cb-812b-ec6dbaf7b0b6&amp;tw_document_href=https%3A%2F%2Fauth.udacity.com%2Fsign-up%3Fnext%3Dhttps%253A%252F%252Flearn.udacity.com%252Fmy-programs%253Ftab%253DCurrently%25252520Learning&amp;tw_iframe_status=0&amp;tw_order_quantity=0&amp;tw_sale_amount=0&amp;txn_id=nv8k3&amp;type=javascript&amp;version=2.3.29\" style=\"display: none;\" width=\"1\"/><img height=\"1\" src=\"https://t.co/i/adsct?bci=3&amp;eci=2&amp;event_id=2befd5e1-3fad-4dd5-93e7-a74adb8bb85a&amp;events=%5B%5B%22pageview%22%2C%7B%7D%5D%5D&amp;integration=advertiser&amp;p_id=Twitter&amp;p_user_id=0&amp;pl_id=434ace52-7113-43cb-812b-ec6dbaf7b0b6&amp;tw_document_href=https%3A%2F%2Fauth.udacity.com%2Fsign-up%3Fnext%3Dhttps%253A%252F%252Flearn.udacity.com%252Fmy-programs%253Ftab%253DCurrently%25252520Learning&amp;tw_iframe_status=0&amp;tw_order_quantity=0&amp;tw_sale_amount=0&amp;txn_id=nv8k3&amp;type=javascript&amp;version=2.3.29\" style=\"display: none;\" width=\"1\"/><img height=\"1\" src=\"https://analytics.twitter.com/i/adsct?bci=3&amp;eci=2&amp;event_id=2befd5e1-3fad-4dd5-93e7-a74adb8bb85a&amp;events=%5B%5B%22pageview%22%2C%7B%7D%5D%5D&amp;integration=advertiser&amp;p_id=Twitter&amp;p_user_id=0&amp;pl_id=434ace52-7113-43cb-812b-ec6dbaf7b0b6&amp;tw_document_href=https%3A%2F%2Fauth.udacity.com%2Fsign-up%3Fnext%3Dhttps%253A%252F%252Flearn.udacity.com%252Fmy-programs%253Ftab%253DCurrently%25252520Learning&amp;tw_iframe_status=0&amp;tw_order_quantity=0&amp;tw_sale_amount=0&amp;txn_id=nv8k3&amp;type=javascript&amp;version=2.3.29\" style=\"display: none;\" width=\"1\"/><script id=\"\" type=\"text/javascript\">(function(g,e,a,f,b,c,d){b.ire_o=a;b[a]=b[a]||function(){(b[a].a=b[a].a||[]).push(arguments)};c=f.createElement(e);d=f.getElementsByTagName(e)[0];c.async=1;c.src=g;d.parentNode.insertBefore(c,d)})(\"//d.impactradius-event.com/A2196549-ea12-4308-bf0b-5abde092433a1.js\",\"script\",\"ire\",document,window);dataLayer.push({event:\"UttLoaded\"});</script>\n",
       "<img alt=\"\" height=\"1\" src=\"https://dc.ads.linkedin.com/collect/?pid=406745&amp;fmt=gif\" style=\"display:none;\" width=\"1\"/><img alt=\"\" height=\"1\" src=\"https://dc.ads.linkedin.com/collect/?pid=406745&amp;conversionId=423748&amp;fmt=gif\" style=\"display:none;\" width=\"1\"/>\n",
       "<script id=\"\" type=\"text/javascript\">!function(b,e,f,g,a,c,d){b.fbq||(a=b.fbq=function(){a.callMethod?a.callMethod.apply(a,arguments):a.queue.push(arguments)},b._fbq||(b._fbq=a),a.push=a,a.loaded=!0,a.version=\"2.0\",a.queue=[],c=e.createElement(f),c.async=!0,c.src=g,d=e.getElementsByTagName(f)[0],d.parentNode.insertBefore(c,d))}(window,document,\"script\",\"https://connect.facebook.net/en_US/fbevents.js\");fbq(\"init\",\"2197623860455254\",{fn:google_tag_manager[\"GTM-WW3F3H\"].macro(2),em:google_tag_manager[\"GTM-WW3F3H\"].macro(3)});fbq(\"track\",\"PageView\");</script>\n",
       "<noscript><img height=\"1\" src=\"https://www.facebook.com/tr?id=2197623860455254&amp;ev=PageView&amp;noscript=1\" style=\"display:none\" width=\"1\"/></noscript>\n",
       "<script id=\"\" type=\"text/javascript\">var clickid=\"_ir_clickid\";ire(\"generateClickId\",function(a){window.dataLayer=window.dataLayer||[];dataLayer.push({event:\"generateClickid\",clickId:a});localStorage.setItem(clickid,a)});</script><script id=\"\" type=\"text/javascript\">!function(a,e,f,b,c,d){a[b]=a[b]||function(){(a[b].q=a[b].q||[]).push(arguments)};setTimeout(function(){c=e.createElement(\"script\");d=e.getElementsByTagName(\"script\")[0];c.src=f;d.parentNode.insertBefore(c,d)},0)}(window,document,\"https://ext.chtbl.com/trackable.js\",\"trackable\");trackable(\"init\",\"37681a451f5df22b419b5caba79cd929\");</script><script id=\"\" src=\"https://tag.simpli.fi/sifitag/00e6f2b0-52be-013a-c1d3-06a60fe5fe77\" type=\"text/javascript\"></script><script id=\"\" src=\"https://tag.simpli.fi/sifitag/827c67f0-4414-013a-99d9-06b4c2516bae\" type=\"text/javascript\"></script><script id=\"\" type=\"text/javascript\">ire(\"identify\",{customerId:\"\",customerEmail:\"\"});</script>\n",
       "</body></html>"
      ]
     },
     "execution_count": 27,
     "metadata": {},
     "output_type": "execute_result"
    }
   ],
   "source": [
    "soup"
   ]
  },
  {
   "cell_type": "markdown",
   "id": "57744e5c",
   "metadata": {},
   "source": [
    "# ScrappingBee for google scraping search results"
   ]
  },
  {
   "cell_type": "code",
   "execution_count": 10,
   "id": "2772911e",
   "metadata": {},
   "outputs": [],
   "source": [
    "import requests\n",
    "import csv\n",
    "from bs4 import BeautifulSoup\n",
    "import pandas as pd\n",
    "import random\n",
    "import time"
   ]
  },
  {
   "cell_type": "code",
   "execution_count": 11,
   "id": "1f4106e0",
   "metadata": {},
   "outputs": [],
   "source": [
    "SCRAPINGBEE_API_KEY = ''"
   ]
  },
  {
   "cell_type": "code",
   "execution_count": 15,
   "id": "dfeb8b36",
   "metadata": {},
   "outputs": [],
   "source": [
    "def scrape_google_results(query, num_results):\n",
    "    results = []\n",
    "    for start in range(0, num_results):\n",
    "        url = f\"https://www.google.com/search?q={query}&start={start}\"\n",
    "        headers = {\n",
    "            \"User-Agent\": \"Mozilla/5.0 (Windows NT 10.0; Win64; x64) AppleWebKit/537.36 (KHTML, like Gecko) Chrome/85.0.4183.102 Safari/537.3\"\n",
    "        }\n",
    "        params = {\n",
    "            \"api_key\": SCRAPINGBEE_API_KEY,\n",
    "            \"url\": url,\n",
    "            \"render_js\": False\n",
    "        }\n",
    "        response = requests.get(\"https://api.scrapingbee.com/scrape\", headers=headers, params=params)\n",
    "        soup = BeautifulSoup(response.text, \"html.parser\")\n",
    "        for item in soup.select(\".g\"):\n",
    "            link = item.select_one(\"a\")[\"href\"]\n",
    "            results.append(link)\n",
    "        time.sleep(random.randrange(1,3))\n",
    "    return results"
   ]
  },
  {
   "cell_type": "code",
   "execution_count": 28,
   "id": "be78351a",
   "metadata": {},
   "outputs": [],
   "source": [
    "query = \"site:youtube.com openinapp.co\"\n",
    "num_results = 1\n",
    "results = scrape_google_results(query, num_results)"
   ]
  },
  {
   "cell_type": "code",
   "execution_count": null,
   "id": "bb758941",
   "metadata": {},
   "outputs": [],
   "source": [
    "df = pd.DataFrame(results, columns=[\"YouTube link\"])\n",
    "df.to_csv('Final_.csv', index=False)"
   ]
  }
 ],
 "metadata": {
  "kernelspec": {
   "display_name": "Python 3 (ipykernel)",
   "language": "python",
   "name": "python3"
  },
  "language_info": {
   "codemirror_mode": {
    "name": "ipython",
    "version": 3
   },
   "file_extension": ".py",
   "mimetype": "text/x-python",
   "name": "python",
   "nbconvert_exporter": "python",
   "pygments_lexer": "ipython3",
   "version": "3.9.12"
  }
 },
 "nbformat": 4,
 "nbformat_minor": 5
}
