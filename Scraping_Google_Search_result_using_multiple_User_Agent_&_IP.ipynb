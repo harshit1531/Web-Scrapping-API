{
  "cells": [
    {
      "cell_type": "markdown",
      "metadata": {
        "id": "view-in-github",
        "colab_type": "text"
      },
      "source": [
        "<a href=\"https://colab.research.google.com/github/harshit1531/Web-Scrapping-API/blob/main/Scraping_Google_Search_result_using_multiple_User_Agent_%26_IP.ipynb\" target=\"_parent\"><img src=\"https://colab.research.google.com/assets/colab-badge.svg\" alt=\"Open In Colab\"/></a>"
      ]
    },
    {
      "cell_type": "code",
      "execution_count": 4,
      "metadata": {
        "id": "q12Iwsw0EdIb"
      },
      "outputs": [],
      "source": [
        "import requests\n",
        "from bs4 import BeautifulSoup\n",
        "import pandas as pd\n",
        "import random\n",
        "import time"
      ]
    },
    {
      "cell_type": "markdown",
      "source": [
        "## Free_IPs_using_Python_Web_Scrapping"
      ],
      "metadata": {
        "id": "J2DnLaSwcadS"
      }
    },
    {
      "cell_type": "code",
      "source": [
        "def free_proxy():\n",
        "    url = 'https://free-proxy-list.net/'\n",
        "    r = requests.get(url)\n",
        "    soup = BeautifulSoup(r.content,'html.parser')\n",
        "    proxies = []\n",
        "    ip_ = []\n",
        "    td_list = soup.find('table', class_='table-striped').tbody.find_all('tr')\n",
        "    for row in td_list:\n",
        "        td = row.find_all('td')\n",
        "        try:\n",
        "            ip = td[0].text\n",
        "            port = td[1].text\n",
        "            proxies.append(ip + ':' + port)\n",
        "            ip_.append(ip)\n",
        "        except:\n",
        "            continue\n",
        "    return proxies,ip_"
      ],
      "metadata": {
        "id": "4V0kD5ZbcLMg"
      },
      "execution_count": 6,
      "outputs": []
    },
    {
      "cell_type": "code",
      "source": [
        "proxy,ip = free_proxy()"
      ],
      "metadata": {
        "id": "b6CgbQEIcK8D"
      },
      "execution_count": 7,
      "outputs": []
    },
    {
      "cell_type": "code",
      "source": [
        "# Checking working IP\n",
        "url = 'http://httpbin.org/ip'\n",
        "working_proxy = []\n",
        "for i in range(len(proxy)):\n",
        "    try:\n",
        "        response = requests.get(url,proxies = {'http':proxy[i], 'https':proxy[i]}, timeout = 2)\n",
        "        print(response.json(), ' - working')\n",
        "        working_proxy.append(ip[i])\n",
        "    except:\n",
        "        pass"
      ],
      "metadata": {
        "colab": {
          "base_uri": "https://localhost:8080/"
        },
        "id": "D2JhlwnBcKtq",
        "outputId": "f64b356f-2075-4ee6-ee55-8e096104244a"
      },
      "execution_count": 8,
      "outputs": [
        {
          "output_type": "stream",
          "name": "stdout",
          "text": [
            "{'origin': '112.120.37.92'}  - working\n",
            "{'origin': '117.54.114.50'}  - working\n",
            "{'origin': '80.48.119.28'}  - working\n",
            "{'origin': '36.235.125.224'}  - working\n",
            "{'origin': '192.168.184.1, 178.49.14.57'}  - working\n",
            "{'origin': '49.0.2.242'}  - working\n",
            "{'origin': '221.103.225.78'}  - working\n",
            "{'origin': '157.254.193.139'}  - working\n",
            "{'origin': '110.164.15.182'}  - working\n",
            "{'origin': '185.99.252.198'}  - working\n",
            "{'origin': '103.75.196.121'}  - working\n",
            "{'origin': '185.206.134.137'}  - working\n",
            "{'origin': '221.103.225.78'}  - working\n",
            "{'origin': '203.24.92.118'}  - working\n",
            "{'origin': '41.231.54.99'}  - working\n",
            "{'origin': '80.154.30.131'}  - working\n",
            "{'origin': '5.154.146.114'}  - working\n",
            "{'origin': '80.154.30.131'}  - working\n",
            "{'origin': '117.251.103.186'}  - working\n",
            "{'origin': '47.56.110.204'}  - working\n",
            "{'origin': '103.154.185.10'}  - working\n",
            "{'origin': '139.99.237.62'}  - working\n",
            "{'origin': '218.250.67.85'}  - working\n",
            "{'origin': '34.146.16.157'}  - working\n",
            "{'origin': '115.144.102.39'}  - working\n",
            "{'origin': '8.209.198.247'}  - working\n",
            "{'origin': '172.104.61.127'}  - working\n",
            "{'origin': '10.1.25.1, 113.53.231.133'}  - working\n",
            "{'origin': '42.98.75.138'}  - working\n",
            "{'origin': '51.89.73.43'}  - working\n",
            "{'origin': '43.155.69.95'}  - working\n",
            "{'origin': '58.153.12.105'}  - working\n",
            "{'origin': '104.248.23.149'}  - working\n",
            "{'origin': '202.61.192.193'}  - working\n",
            "{'origin': '95.216.33.21'}  - working\n",
            "{'origin': '185.162.251.76'}  - working\n",
            "{'origin': '165.154.224.14'}  - working\n",
            "{'origin': '213.91.197.85'}  - working\n",
            "{'origin': '147.28.184.73'}  - working\n",
            "{'origin': '152.67.99.80'}  - working\n",
            "{'origin': '91.229.114.141'}  - working\n",
            "{'origin': '103.178.54.149'}  - working\n",
            "{'origin': '203.145.94.40'}  - working\n",
            "{'origin': '203.198.207.253'}  - working\n",
            "{'origin': '165.154.236.174'}  - working\n",
            "{'origin': '111.251.185.125'}  - working\n",
            "{'origin': '36.227.242.100'}  - working\n",
            "{'origin': '114.37.215.192'}  - working\n",
            "{'origin': '106.51.54.159'}  - working\n",
            "{'origin': '152.69.215.206'}  - working\n",
            "{'origin': '45.142.106.133'}  - working\n",
            "{'origin': '158.69.128.81'}  - working\n",
            "{'origin': '35.199.56.120, 190.187.208.171'}  - working\n",
            "{'origin': '170.2.223.254'}  - working\n",
            "{'origin': '18.234.214.51'}  - working\n",
            "{'origin': '20.111.54.16'}  - working\n",
            "{'origin': '103.234.55.173'}  - working\n",
            "{'origin': '20.206.106.192'}  - working\n",
            "{'origin': '91.238.103.65'}  - working\n",
            "{'origin': '216.137.184.252'}  - working\n",
            "{'origin': '20.210.113.32'}  - working\n",
            "{'origin': '20.24.43.214'}  - working\n",
            "{'origin': '82.117.252.99'}  - working\n",
            "{'origin': '156.217.120.183'}  - working\n",
            "{'origin': '31.186.239.245'}  - working\n",
            "{'origin': '47.88.87.74'}  - working\n",
            "{'origin': '43.255.113.232'}  - working\n",
            "{'origin': '155.248.197.241'}  - working\n",
            "{'origin': '174.70.1.210'}  - working\n",
            "{'origin': '104.223.135.178'}  - working\n",
            "{'origin': '154.118.228.210'}  - working\n",
            "{'origin': '45.131.66.221'}  - working\n",
            "{'origin': '114.37.212.94'}  - working\n",
            "{'origin': '111.251.188.1'}  - working\n",
            "{'origin': '111.251.180.242'}  - working\n",
            "{'origin': '35.199.56.120, 143.0.67.142'}  - working\n",
            "{'origin': '124.243.11.41'}  - working\n",
            "{'origin': '213.230.127.93'}  - working\n",
            "{'origin': '145.40.99.247'}  - working\n",
            "{'origin': '1.214.62.71'}  - working\n",
            "{'origin': '35.199.56.120, 68.183.237.189'}  - working\n",
            "{'origin': '169.55.89.6'}  - working\n",
            "{'origin': '41.93.71.4'}  - working\n",
            "{'origin': '20.205.61.143'}  - working\n",
            "{'origin': '27.79.1.64'}  - working\n",
            "{'origin': '100.125.67.63, 119.8.99.39'}  - working\n",
            "{'origin': '162.240.75.37'}  - working\n",
            "{'origin': '162.240.75.37'}  - working\n",
            "{'origin': '10.244.0.1, 52.142.208.138'}  - working\n",
            "{'origin': '118.27.113.167'}  - working\n",
            "{'origin': '198.59.191.249'}  - working\n",
            "{'origin': '114.37.216.45'}  - working\n",
            "{'origin': '113.163.216.208'}  - working\n",
            "{'origin': '8.219.64.236'}  - working\n",
            "{'origin': '58.153.175.193'}  - working\n",
            "{'origin': '179.60.183.228'}  - working\n",
            "{'origin': '114.43.124.233'}  - working\n",
            "{'origin': '35.199.56.120, 154.236.168.141'}  - working\n",
            "{'origin': '35.199.56.120, 1.10.231.42'}  - working\n",
            "{'origin': '154.236.189.4'}  - working\n",
            "{'origin': '165.246.148.50'}  - working\n"
          ]
        }
      ]
    },
    {
      "cell_type": "code",
      "source": [
        "print(f\"Total working IP's are {len(working_proxy)}.\")"
      ],
      "metadata": {
        "colab": {
          "base_uri": "https://localhost:8080/"
        },
        "id": "Z6RUjgWCcKWc",
        "outputId": "6209bd1d-f108-430b-9b23-1672dea8ac02"
      },
      "execution_count": 9,
      "outputs": [
        {
          "output_type": "stream",
          "name": "stdout",
          "text": [
            "Total working IP's are 101.\n"
          ]
        }
      ]
    },
    {
      "cell_type": "code",
      "source": [
        "Ip_Address = working_proxy"
      ],
      "metadata": {
        "id": "RY_HhroDgnuj"
      },
      "execution_count": 10,
      "outputs": []
    },
    {
      "cell_type": "code",
      "source": [
        "USER_AGENTS = [\"Mozilla/5.0 (Windows NT 10.0; Win64; x64) AppleWebKit/537.36 (KHTML, like Gecko) Chrome/85.0.4183.102 Safari/537.3\",\n",
        "               \"Mozilla/5.0 (Windows NT 10.0; Win64; x64) AppleWebKit/537.36 (KHTML, like Gecko) Chrome/58.0.3029.110 Safari/537.36\",\n",
        "               \"Mozilla/5.0 (Windows NT 10.0; Win64; x64; rv:53.0) Gecko/20100101 Firefox/53.0\",\n",
        "               \"Mozilla/5.0 (compatible; MSIE 9.0; Windows NT 6.0; Trident/5.0; Trident/5.0)\",\n",
        "               \"Mozilla/5.0 (compatible; MSIE 10.0; Windows NT 6.2; Trident/6.0; MDDCJS)\",\n",
        "               \"Mozilla/5.0 (Windows NT 10.0; Win64; x64) AppleWebKit/537.36 (KHTML, like Gecko) Chrome/51.0.2704.79 Safari/537.36 Edge/14.14393\",\n",
        "               \"Mozilla/4.0 (compatible; MSIE 6.0; Windows NT 5.1; SV1\",\n",
        "               \"Mozilla/5.0 (Linux; Android 12; SM-S906N Build/QP1A.190711.020; wv) AppleWebKit/537.36\\(KHTML, like Gecko) Version/4.0 Chrome/80.0.3987.119 Mobile Safari/537.36\",\n",
        "               \"Mozilla/5.0 (Linux; Android 10; SM-G996U Build/QP1A.190711.020; wv) AppleWebKit/537.36\\(KHTML, like Gecko) Version/4.0 Mobile Safari/537.36\",\n",
        "               \"Mozilla/5.0 (iPhone; CPU iPhone OS 12_0 like Mac OS X) AppleWebKit/605.1.15\\(KHTML, like Gecko) CriOS/69.0.3497.105 Mobile/15E148 Safari/605.1\"\n",
        "               ]"
      ],
      "metadata": {
        "id": "R_bl4Ix4lg-1"
      },
      "execution_count": 11,
      "outputs": []
    },
    {
      "cell_type": "code",
      "execution_count": 12,
      "metadata": {
        "id": "OTY48GU9EdJF"
      },
      "outputs": [],
      "source": [
        "def scrape_google_results(query, num_results):\n",
        "    results = []\n",
        "    for start in range(0, num_results):\n",
        "        url = f\"https://www.google.com/search?q={query}&start={start}\"\n",
        "        \n",
        "        headers = {\"User-Agent\": random.choice(USER_AGENTS),\n",
        "                   'Accept-Language': 'en-US, en;q=0.5'}\n",
        "        \n",
        "        # ip_address = random.choice(Ip_Address)\n",
        "        # proxy = {'http':ip_address, 'https':ip_address}\n",
        "        \n",
        "\n",
        "        response = requests.get(url, headers=headers)#,proxies=proxy)\n",
        "        soup = BeautifulSoup(response.text, \"html.parser\")\n",
        "        for item in soup.select(\".g\"):\n",
        "            link = item.select_one(\"a\")[\"href\"]\n",
        "            results.append(link)\n",
        "        time.sleep(random.randrange(1,3))\n",
        "    return results"
      ]
    },
    {
      "cell_type": "code",
      "execution_count": 14,
      "metadata": {
        "id": "2AlYt3BCEdJP"
      },
      "outputs": [],
      "source": [
        "query = \"site:youtube.com openinapp.co\"\n",
        "num_results = 2\n",
        "results = scrape_google_results(query, num_results)"
      ]
    },
    {
      "cell_type": "code",
      "execution_count": 15,
      "metadata": {
        "id": "5AxqsALJEdJV"
      },
      "outputs": [],
      "source": [
        "df = pd.DataFrame(results, columns=[\"YouTube link\"])\n",
        "df.to_csv('Final_.csv', index=False)"
      ]
    }
  ],
  "metadata": {
    "kernelspec": {
      "display_name": "Python 3 (ipykernel)",
      "language": "python",
      "name": "python3"
    },
    "language_info": {
      "codemirror_mode": {
        "name": "ipython",
        "version": 3
      },
      "file_extension": ".py",
      "mimetype": "text/x-python",
      "name": "python",
      "nbconvert_exporter": "python",
      "pygments_lexer": "ipython3",
      "version": "3.9.12"
    },
    "colab": {
      "provenance": [],
      "include_colab_link": true
    }
  },
  "nbformat": 4,
  "nbformat_minor": 0
}