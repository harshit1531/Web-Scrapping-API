{
  "nbformat": 4,
  "nbformat_minor": 0,
  "metadata": {
    "colab": {
      "provenance": [],
      "authorship_tag": "ABX9TyM62prHzYuo2PvLtDeKVTla",
      "include_colab_link": true
    },
    "kernelspec": {
      "name": "python3",
      "display_name": "Python 3"
    },
    "language_info": {
      "name": "python"
    }
  },
  "cells": [
    {
      "cell_type": "markdown",
      "metadata": {
        "id": "view-in-github",
        "colab_type": "text"
      },
      "source": [
        "<a href=\"https://colab.research.google.com/github/harshit1531/Web-Scrapping-API/blob/main/Interacting_with_Twitter_API.ipynb\" target=\"_parent\"><img src=\"https://colab.research.google.com/assets/colab-badge.svg\" alt=\"Open In Colab\"/></a>"
      ]
    },
    {
      "cell_type": "code",
      "execution_count": 2,
      "metadata": {
        "colab": {
          "base_uri": "https://localhost:8080/"
        },
        "id": "KonSJBXXhvqu",
        "outputId": "dc8bcdb6-934f-4ca2-b8a7-55facbe2bcb8"
      },
      "outputs": [
        {
          "output_type": "stream",
          "name": "stdout",
          "text": [
            "Looking in indexes: https://pypi.org/simple, https://us-python.pkg.dev/colab-wheels/public/simple/\n",
            "Requirement already satisfied: tweepy in /usr/local/lib/python3.8/dist-packages (3.10.0)\n",
            "Requirement already satisfied: requests[socks]>=2.11.1 in /usr/local/lib/python3.8/dist-packages (from tweepy) (2.25.1)\n",
            "Requirement already satisfied: requests-oauthlib>=0.7.0 in /usr/local/lib/python3.8/dist-packages (from tweepy) (1.3.1)\n",
            "Requirement already satisfied: six>=1.10.0 in /usr/local/lib/python3.8/dist-packages (from tweepy) (1.15.0)\n",
            "Requirement already satisfied: oauthlib>=3.0.0 in /usr/local/lib/python3.8/dist-packages (from requests-oauthlib>=0.7.0->tweepy) (3.2.2)\n",
            "Requirement already satisfied: certifi>=2017.4.17 in /usr/local/lib/python3.8/dist-packages (from requests[socks]>=2.11.1->tweepy) (2022.12.7)\n",
            "Requirement already satisfied: chardet<5,>=3.0.2 in /usr/local/lib/python3.8/dist-packages (from requests[socks]>=2.11.1->tweepy) (4.0.0)\n",
            "Requirement already satisfied: idna<3,>=2.5 in /usr/local/lib/python3.8/dist-packages (from requests[socks]>=2.11.1->tweepy) (2.10)\n",
            "Requirement already satisfied: urllib3<1.27,>=1.21.1 in /usr/local/lib/python3.8/dist-packages (from requests[socks]>=2.11.1->tweepy) (1.24.3)\n",
            "Requirement already satisfied: PySocks!=1.5.7,>=1.5.6 in /usr/local/lib/python3.8/dist-packages (from requests[socks]>=2.11.1->tweepy) (1.7.1)\n"
          ]
        }
      ],
      "source": [
        "pip install tweepy"
      ]
    },
    {
      "cell_type": "code",
      "source": [
        "import tweepy"
      ],
      "metadata": {
        "id": "p6k3rZ31h8ra"
      },
      "execution_count": 3,
      "outputs": []
    },
    {
      "cell_type": "markdown",
      "source": [
        "## Authenticate"
      ],
      "metadata": {
        "id": "n7FpY_LuiJYN"
      }
    },
    {
      "cell_type": "code",
      "source": [
        "client = tweepy.Client(bearer_token=\"\")"
      ],
      "metadata": {
        "id": "7cleQdNNiH-D"
      },
      "execution_count": null,
      "outputs": []
    },
    {
      "cell_type": "markdown",
      "source": [
        "## Extract tweets from an account"
      ],
      "metadata": {
        "id": "TYhJKSCGiSyi"
      }
    },
    {
      "cell_type": "code",
      "source": [
        "query = \"from:scaler_official\"\n",
        "\n",
        "tweets = client.search_recent_tweets(query, tweet_fields= ['created_at','author_id'],max_results=100)"
      ],
      "metadata": {
        "id": "fbmY6fEQiZvI"
      },
      "execution_count": null,
      "outputs": []
    },
    {
      "cell_type": "code",
      "source": [
        "for tweet in tweets.data:\n",
        "    print(tweet.text)\n",
        "    print(f\"Author Id:{tweet.author_id}\")\n",
        "    print('-*-'*40)"
      ],
      "metadata": {
        "id": "cj-a1LJuijF5"
      },
      "execution_count": null,
      "outputs": []
    },
    {
      "cell_type": "markdown",
      "source": [
        "## Users Elon Musk is following"
      ],
      "metadata": {
        "id": "sNmvE0UbijkQ"
      }
    },
    {
      "cell_type": "code",
      "source": [
        "## get user id\n",
        "\n",
        "client.get_user(username=\"elonmusk\")"
      ],
      "metadata": {
        "id": "K0tZaekIipQt"
      },
      "execution_count": null,
      "outputs": []
    },
    {
      "cell_type": "code",
      "source": [
        "following_list = client.get_users_following(id = \"\")"
      ],
      "metadata": {
        "id": "yIQITgx4ir4S"
      },
      "execution_count": null,
      "outputs": []
    },
    {
      "cell_type": "code",
      "source": [
        "following_list.data"
      ],
      "metadata": {
        "id": "5WN0BXrUivpx"
      },
      "execution_count": null,
      "outputs": []
    },
    {
      "cell_type": "markdown",
      "source": [
        "## Omicron tagged tweets"
      ],
      "metadata": {
        "id": "udu3Fsyliy3e"
      }
    },
    {
      "cell_type": "code",
      "source": [
        "query = '#omicron'\n",
        "\n",
        "data = {\n",
        "    'text' : [],\n",
        "    'created_at' : [],\n",
        "    'author_id' : []\n",
        "}\n",
        "\n",
        "for tweet in tweepy.Paginator(client.search_recent_tweets, query = query, \n",
        "                              tweet_fields= ['created_at','author_id']).flatten(limit=1000):\n",
        "    data['text'].append(tweet.text)\n",
        "    data['created_at'].append(tweet.created_at)\n",
        "    data['author_id'].append(tweet.author.id)"
      ],
      "metadata": {
        "id": "XlCvJOmGixuS"
      },
      "execution_count": null,
      "outputs": []
    },
    {
      "cell_type": "code",
      "source": [
        "import pandas as pd"
      ],
      "metadata": {
        "id": "kb3BsWk5i3Xc"
      },
      "execution_count": 4,
      "outputs": []
    },
    {
      "cell_type": "code",
      "source": [
        "df = pd.DataFrame(data)\n",
        "df.head()"
      ],
      "metadata": {
        "id": "ihb7IKvKi6w4"
      },
      "execution_count": null,
      "outputs": []
    }
  ]
}